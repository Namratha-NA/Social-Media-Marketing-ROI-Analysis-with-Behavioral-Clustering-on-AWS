{
  "nbformat": 4,
  "nbformat_minor": 0,
  "metadata": {
    "colab": {
      "provenance": []
    },
    "kernelspec": {
      "name": "python3",
      "display_name": "Python 3"
    },
    "language_info": {
      "name": "python"
    }
  },
  "cells": [
    {
      "cell_type": "code",
      "execution_count": 3,
      "metadata": {
        "id": "6WMrRTzzUgnd"
      },
      "outputs": [],
      "source": [
        "import pandas as pd\n",
        "import numpy as np\n",
        "\n",
        "# Load the raw dataset\n",
        "df = pd.read_csv(\"social_media_ad_optimization.csv\")\n",
        "\n",
        "# Step 1: Normalize column names\n",
        "df.columns = df.columns.str.lower().str.replace(' ', '_')\n",
        "\n",
        "# Step 2: Drop rows with missing values in critical columns\n",
        "df.dropna(subset=['ad_platform', 'impressions', 'clicks', 'conversion'], inplace=True)\n",
        "\n",
        "# Step 3: Standardize ad_platform names\n",
        "df['ad_platform'] = df['ad_platform'].str.title()\n",
        "\n",
        "# Step 4: Simulate ad spend (cost per impression based on platform)\n",
        "platform_cpi = {\n",
        "    'Facebook': 0.03,\n",
        "    'Instagram': 0.04,\n",
        "    'Twitter': 0.025,\n",
        "    'Linkedin': 0.06,\n",
        "    'Youtube': 0.05,\n",
        "    'Snapchat': 0.02\n",
        "}\n",
        "\n",
        "# Map cost per impression and calculate ad_spend\n",
        "df['cpi'] = df['ad_platform'].map(platform_cpi).fillna(0.03)\n",
        "df['ad_spend'] = (df['impressions'] * df['cpi']).round(2)\n",
        "\n",
        "# Step 5: Simulate revenue per conversion\n",
        "df['revenue_per_conversion'] = np.where(\n",
        "    df['conversion'] > 0,\n",
        "    np.random.uniform(10, 100, size=df.shape[0]).round(2),\n",
        "    0\n",
        ")\n",
        "\n",
        "# Step 6: Calculate total revenue\n",
        "df['revenue'] = (df['conversion'] * df['revenue_per_conversion']).round(2)\n",
        "\n",
        "# Step 7: Calculate ROI\n",
        "df['roi'] = np.where(\n",
        "    df['ad_spend'] > 0,\n",
        "    ((df['revenue'] - df['ad_spend']) / df['ad_spend']).round(2),\n",
        "    0\n",
        ")\n",
        "\n",
        "# Step 8: Drop intermediate columns\n",
        "df.drop(columns=['cpi', 'revenue_per_conversion'], inplace=True)\n",
        "\n",
        "# Step 9: Save the preprocessed and augmented data\n",
        "df.to_csv(\"augmented_social_media_data.csv\", index=False)\n"
      ]
    }
  ]
}